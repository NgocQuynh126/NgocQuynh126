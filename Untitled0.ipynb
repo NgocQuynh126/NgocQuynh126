{
  "cells": [
    {
      "cell_type": "markdown",
      "metadata": {
        "id": "view-in-github",
        "colab_type": "text"
      },
      "source": [
        "<a href=\"https://colab.research.google.com/github/NgocQuynh126/NgocQuynh126/blob/main/Untitled0.ipynb\" target=\"_parent\"><img src=\"https://colab.research.google.com/assets/colab-badge.svg\" alt=\"Open In Colab\"/></a>"
      ]
    },
    {
      "cell_type": "code",
      "execution_count": null,
      "metadata": {
        "colab": {
          "base_uri": "https://localhost:8080/"
        },
        "id": "jO-e1FwUa4Jq",
        "outputId": "6e065551-7a00-4061-ab14-1e0fe23a4b09"
      },
      "outputs": [
        {
          "name": "stdout",
          "output_type": "stream",
          "text": [
            "chiều dài chữ nhật3\n",
            "Chiều rộng chữ nhật4\n",
            "12.0\n"
          ]
        }
      ],
      "source": [
        "#exercise 2\n",
        "length = float(input(\"chiều dài chữ nhật \"))\n",
        "width = float(input(\"Chiều rộng chữ nhật \"))\n",
        "total = length * width\n",
        "print(total)"
      ]
    },
    {
      "cell_type": "code",
      "execution_count": null,
      "metadata": {
        "colab": {
          "base_uri": "https://localhost:8080/"
        },
        "id": "J2ihk8FibUdx",
        "outputId": "48d3884c-5d1b-4fe9-f61e-e446a7b93f49"
      },
      "outputs": [
        {
          "name": "stdout",
          "output_type": "stream",
          "text": [
            "14\n",
            "-2\n",
            "48\n",
            "0.75\n",
            "6\n"
          ]
        }
      ],
      "source": [
        "\n",
        "num_one =6\n",
        "num_two =8\n",
        "total = num_one + num_two\n",
        "diff = num_one - num_two\n",
        "product = num_one * num_two\n",
        "division = num_one / num_two\n",
        "remainder = num_one % num_two\n",
        "print(total)\n",
        "print(diff)\n",
        "print(product)\n",
        "print(division)\n",
        "print(remainder)"
      ]
    },
    {
      "cell_type": "code",
      "execution_count": null,
      "metadata": {
        "colab": {
          "base_uri": "https://localhost:8080/"
        },
        "id": "p2AQy6Qtf7BH",
        "outputId": "fcdd9aea-546d-4a09-c790-ba9887ff9ba4"
      },
      "outputs": [
        {
          "name": "stdout",
          "output_type": "stream",
          "text": [
            "Nhập tên: Ngọc Quỳnh\n",
            "Nhập họ: Bùi\n",
            "Họ và tên đầy đủ của bạn là: Bùi Ngọc Quỳnh\n"
          ]
        }
      ],
      "source": [
        "first_name = input(\"Nhập tên: \")\n",
        "last_name = input(\"Nhập họ: \")\n",
        "\n",
        "\n",
        "full_name = last_name + \" \" + first_name\n",
        "print(\"Họ và tên đầy đủ của bạn là:\", full_name)"
      ]
    },
    {
      "cell_type": "code",
      "execution_count": null,
      "metadata": {
        "colab": {
          "base_uri": "https://localhost:8080/"
        },
        "id": "Zlj4ZF5KDx_C",
        "outputId": "391af175-5b6c-4e80-8fee-bae111c55bcc"
      },
      "outputs": [
        {
          "name": "stdout",
          "output_type": "stream",
          "text": [
            "Tôi tênQuỳnh\n",
            "Tôi 18 tuổi\n"
          ]
        }
      ],
      "source": [
        "character_name=\"Quỳnh\"\n",
        "character_name=\"Quỳnh\"\n",
        "character_age= 18\n",
        "print (\"Tôi tên\" +character_name)\n",
        "print (\"Tôi\" ,character_age, \"tuổi\")\n",
        "# dùng để code nhiều dùng để sửa cho dễ"
      ]
    },
    {
      "cell_type": "code",
      "execution_count": null,
      "metadata": {
        "colab": {
          "base_uri": "https://localhost:8080/"
        },
        "id": "eZB2Jf8khiMG",
        "outputId": "4b59384a-4fd8-45cc-eed2-cb1ca00fce8e"
      },
      "outputs": [
        {
          "name": "stdout",
          "output_type": "stream",
          "text": [
            "Ngọc/Quỳnh\n"
          ]
        }
      ],
      "source": [
        "print(\"Ngọc/Quỳnh\")"
      ]
    },
    {
      "cell_type": "code",
      "execution_count": null,
      "metadata": {
        "colab": {
          "base_uri": "https://localhost:8080/"
        },
        "id": "1hDM1c-_R-Ri",
        "outputId": "ddbc1830-8e98-4bd3-c687-c74475682023"
      },
      "outputs": [
        {
          "name": "stdout",
          "output_type": "stream",
          "text": [
            "Ngọc Quỳnh\n"
          ]
        }
      ],
      "source": [
        "phrase =\"Ngọc Quỳnh\"\n",
        "print (phrase)# có thể viết thêm như: print (phrase +\"đang học Fpt\")"
      ]
    },
    {
      "cell_type": "code",
      "execution_count": null,
      "metadata": {
        "colab": {
          "base_uri": "https://localhost:8080/"
        },
        "id": "0FdikDodVscf",
        "outputId": "6b00468c-ab7c-48c9-c3cd-df031f975f37"
      },
      "outputs": [
        {
          "name": "stdout",
          "output_type": "stream",
          "text": [
            "Ngọc Quỳnh\n"
          ]
        }
      ],
      "source": [
        "\n",
        "phrase =\"Ngọc Quỳnh\"\n",
        "print (phrase)\n",
        "\n",
        "phrase= \"ngọc quỳnh\"\n",
        "print(phrase.isupper()) # phrase.isupper là kiểm tra đúng sai xem câu đó có viết hoa hay ko nếu có là true nếu ko là flase\n",
        "\n",
        "phrase=\"Ngọc Quỳnh\"#lower là viết thường\n",
        "print(len(phrase))# độ dài của câu, phrase[] nhập số vô để biết vị trí số đó là chữ nào, phrase.index (\"\") nhập chữ vào để biết nó ở vị trí số mấy\n",
        "\n"
      ]
    },
    {
      "cell_type": "code",
      "execution_count": null,
      "metadata": {
        "colab": {
          "base_uri": "https://localhost:8080/"
        },
        "id": "qeoZmwbbWPeP",
        "outputId": "d5163a56-f20f-4ebe-ab8f-1c3f226bdb5f"
      },
      "outputs": [
        {
          "name": "stdout",
          "output_type": "stream",
          "text": [
            "Bùi Quỳnh\n"
          ]
        }
      ],
      "source": [
        "phrase =\"Ngọc Quỳnh\"\n",
        "print(phrase.replace(\"Ngọc\",\"Bùi\")) #replace thay thế"
      ]
    },
    {
      "cell_type": "code",
      "execution_count": null,
      "metadata": {
        "colab": {
          "base_uri": "https://localhost:8080/"
        },
        "id": "lduw3fK0bEDI",
        "outputId": "a34277fa-0295-4d55-8b8c-874bddc4cf46"
      },
      "outputs": [
        {
          "name": "stdout",
          "output_type": "stream",
          "text": [
            "5Con số yêu thích của tui\n"
          ]
        }
      ],
      "source": [
        "number = 5\n",
        "print(str(number) + \"Con số yêu thích của tui\")# str để nó đưa về một chuỗi cũng có thể in: print (number)\n",
        "print(abs(number))# lấy giá trị tuyệt đối\n",
        "print (max(3,5))# trả về số lớn nhất trong các số, min trả lại số nhỏ nhất\n",
        "print(round(3.7))# làm tròn\n",
        "print(pow(3,6))#tính mũ\n",
        "print(floor(6.4))# làm tròn xuống\n",
        "print(ceil(6.4))# làm tròn lên\n",
        "print(sqrt())#căn bậc 2\n",
        "from math import"
      ]
    },
    {
      "cell_type": "code",
      "execution_count": null,
      "metadata": {
        "colab": {
          "base_uri": "https://localhost:8080/"
        },
        "id": "uEJHOBHxerhY",
        "outputId": "d0fca91b-8a76-4d8b-8837-a234480437f7"
      },
      "outputs": [
        {
          "name": "stdout",
          "output_type": "stream",
          "text": [
            "nhập tên của bạnQuỳnh\n",
            "nhập tuổi của bạn18\n"
          ]
        }
      ],
      "source": [
        "name= input (\"nhập tên của bạn\")\n",
        "age= input (\"nhập tuổi của bạn\")"
      ]
    },
    {
      "cell_type": "code",
      "execution_count": null,
      "metadata": {
        "colab": {
          "base_uri": "https://localhost:8080/"
        },
        "id": "y9S_TLZ7ws9K",
        "outputId": "41f36353-a4e8-4609-d1b3-bcecde0ea3b6"
      },
      "outputs": [
        {
          "name": "stdout",
          "output_type": "stream",
          "text": [
            "Nhập tên một loại hoa hoa hồng\n",
            "Nhập tên người quỳnh\n",
            "Bông hoa mà tôi thích nhất hoa hồng\n",
            "Người tôi muốn gặp là quỳnh\n"
          ]
        }
      ],
      "source": [
        "Hoa = input (\"Nhập tên một loại hoa\")\n",
        "Tên = input (\"Nhập tên người\")\n",
        "print(\"Bông hoa mà tôi thích nhất\"+Hoa)\n",
        "print(\"Người tôi muốn gặp là\"+Tên)"
      ]
    },
    {
      "cell_type": "code",
      "execution_count": null,
      "metadata": {
        "colab": {
          "base_uri": "https://localhost:8080/"
        },
        "id": "365aXwott_G-",
        "outputId": "07727141-4a71-48ff-bda1-e52602dacab5"
      },
      "outputs": [
        {
          "name": "stdout",
          "output_type": "stream",
          "text": [
            "Nhập số thứ nhất: 6\n",
            "Nhập số thứ hai: 3\n",
            "Tổng của hai số là: 9.0\n"
          ]
        }
      ],
      "source": [
        "\n",
        "num1 = input(\"Nhập số thứ nhất: \")\n",
        "num2 = input(\"Nhập số thứ hai: \")\n",
        "Return = float(num1) + float (num2)\n",
        "print(\"Tổng của hai số là:\", Return)# có thể sử dụng return, result, total"
      ]
    },
    {
      "cell_type": "code",
      "execution_count": null,
      "metadata": {
        "colab": {
          "base_uri": "https://localhost:8080/"
        },
        "id": "hXir5G9j39lw",
        "outputId": "dfea6ccd-aa41-4fe6-fbb6-29161fc08f9b"
      },
      "outputs": [
        {
          "name": "stdout",
          "output_type": "stream",
          "text": [
            "['Quỳnh', 'Vy', 'Hùng']\n"
          ]
        }
      ],
      "source": [
        "Friend = [\"Quỳnh\",\"Vy\",\"Hùng\"]\n",
        "print (Friend)# in ra danh sách\n",
        "print (Friend[1])# in ra vị trí mà bạn muốn trong danh sách\n",
        "Friend [0] # sửa vị trí trong danh sách mà bạn muốn, hai cái giống nhau\n",
        "lucky_number= [3,4,5,6,7,8,9]\n",
        "Friend.extend(lucky_number)# thêm các phần tử vào cuối danh sách\n",
        "Friend.append# muốn thêm tên một người hay cái gì đó vào cuối danh sách\n",
        "Friend.insert(,) # chèn tên vào vị trí mình muốn ví dụ: (2,tên)\n",
        "Friend.remove# xóa tên râ khỏi danh sách\n",
        "Friend.clear# xóa mọi phần tử ra khỏi danh sách\n",
        "Friend.pop# loại bỏ phần tử cuối cùng\n",
        "Friend.sort# sắp xếp thứ tự tăng dần hoặc sắp xếp theo thứ tự bảng chữ cái\n",
        "Friend.reverse# đảo ngược vị trí trong danh sách\n",
        "Friend2 = Friend.copy# sao chép danh sách"
      ]
    },
    {
      "cell_type": "code",
      "execution_count": null,
      "metadata": {
        "colab": {
          "base_uri": "https://localhost:8080/"
        },
        "id": "6U6DdEyfZeB4",
        "outputId": "958c4fa9-c8f9-43cf-a0e8-a43b33bca9b5"
      },
      "outputs": [
        {
          "name": "stdout",
          "output_type": "stream",
          "text": [
            "5\n"
          ]
        }
      ],
      "source": [
        "coordinates =[5,6]#coordinates là tọa độ, ko thể xóa, thay đổi hay gán giá trị khác vào cho nó ví dụ\n",
        "coordinates[0] = 10# như vầy là ko đc\n",
        "print(coordinates[0])# nếu muốn in số 6 thì thế số 1 vào 0"
      ]
    },
    {
      "cell_type": "code",
      "execution_count": null,
      "metadata": {
        "colab": {
          "base_uri": "https://localhost:8080/"
        },
        "id": "gMSD8p6hkWgM",
        "outputId": "5bb9c1c2-cde2-4fbe-f31a-09a78d4e36c5"
      },
      "outputs": [
        {
          "name": "stdout",
          "output_type": "stream",
          "text": [
            "hello user\n"
          ]
        }
      ],
      "source": [
        "def sayhi():# có thể viết say_hi hoặc sayhi, def là định nghĩa hàm tạo một hàm\n",
        "    print(\"hello user\")\n",
        "sayhi()# gọi hàm để chạy\n",
        "def sayhi(name):\n",
        "  print(\"hello\"+name)# chúng ta có thể viết thêm như thế này\n",
        "  sayhi(\"Quỳnh\")"
      ]
    },
    {
      "cell_type": "code",
      "execution_count": null,
      "metadata": {
        "colab": {
          "base_uri": "https://localhost:8080/"
        },
        "id": "VzhWnIaaufAG",
        "outputId": "d45670e7-f8e7-428c-83aa-36e968f45745"
      },
      "outputs": [
        {
          "name": "stdout",
          "output_type": "stream",
          "text": [
            "81\n"
          ]
        }
      ],
      "source": [
        "def cube(num):\n",
        "  return num*num*num*num\n",
        "print (cube(3))\n",
        "# hoặc có thể viết\n",
        "result = cube(4)\n",
        "print(result)# result để lưu trữ kết quả của một phép tính"
      ]
    },
    {
      "cell_type": "code",
      "execution_count": null,
      "metadata": {
        "colab": {
          "base_uri": "https://localhost:8080/"
        },
        "id": "bE8ipD7AxvnK",
        "outputId": "7b0d51f2-8e84-4ad0-a121-d0714f653347"
      },
      "outputs": [
        {
          "name": "stdout",
          "output_type": "stream",
          "text": [
            "Tôi thích bông hoa\n"
          ]
        }
      ],
      "source": [
        "# if\n",
        "bông_hoa = True # nếu sửa thành flase thì khi in kết quả ra sẽ ko có gì cả\n",
        "if bông_hoa:\n",
        "  print(\"Tôi thích bông hoa\")"
      ]
    },
    {
      "cell_type": "code",
      "execution_count": null,
      "metadata": {
        "colab": {
          "base_uri": "https://localhost:8080/"
        },
        "id": "cSKSjmNjyIBt",
        "outputId": "12e7a6c6-de13-4f9e-b9f3-ba7cf37c3550"
      },
      "outputs": [
        {
          "name": "stdout",
          "output_type": "stream",
          "text": [
            "Tôi sẽ ko ướt\n"
          ]
        }
      ],
      "source": [
        "# if_else\n",
        "mang_ô = False\n",
        "mang_dù = True\n",
        "if mang_ô or mang_dù:# có thể sử dụng or=and\n",
        "  print(\"Tôi sẽ ko ướt\")# and true và false = false\n",
        "elif mang_ô and not (mang_dù):#or true và false = true\n",
        "  print(\"Tôi cũng sẽ ko ướt\")# not là phủ định\n",
        "elif not (mang_ô) and (mang_dù):\n",
        "  print(\"Tôi sẽ ướt\")\n",
        "else:\n",
        "  print(\"Tôi không mang ô tôi sẽ ướt\")\n"
      ]
    },
    {
      "cell_type": "code",
      "execution_count": null,
      "metadata": {
        "colab": {
          "base_uri": "https://localhost:8080/"
        },
        "id": "dur2aYh4dTGI",
        "outputId": "a877eafc-9a15-44a2-bbce-5549d5c36ac0"
      },
      "outputs": [
        {
          "name": "stdout",
          "output_type": "stream",
          "text": [
            "Nhập số đầu tiên5\n",
            "Nhập phép tính+\n",
            "Nhập số thứ hai3\n",
            "8.0\n"
          ]
        }
      ],
      "source": [
        "num1 = float(input(\"Nhập số đầu tiên\"))\n",
        "op = input(\"Nhập phép tính\")\n",
        "num2 = float(input(\"Nhập số thứ hai\"))\n",
        "if op == \"+\":\n",
        "  print(num1 + num2 )\n",
        "elif op == \"-\":\n",
        "  print(num1 - num2 )\n",
        "elif op == \"*\":\n",
        "  print(num1 * num2 )\n",
        "elif op == \"/\":\n",
        "  print(num1 / num2 )\n",
        "else:\n",
        "  print(\"Lỗi\")"
      ]
    },
    {
      "cell_type": "markdown",
      "source": [
        "#từ khóa\n",
        "month = {\n",
        "    \"Jan\": \"January\",\n",
        "    \"Feb\": \"February\",\n",
        "    \"Mar\": \"March\",\n",
        "    \"Apr\": \"April\",\n",
        "    #có thể viết như dưới hoặc trên, jan có thể nằm bên phải (bên nào cũng đc)\n",
        "    0: \"May\",\n",
        "    1: \"June\",\n",
        "    2: \"July\",\n",
        "    3: \"August\",\n",
        "    4: \"September\",\n",
        "    \"Oct\": \"October\",\n",
        "    \"Nov\": \"November\",\n",
        "    \"Dec\": \"December\",\n",
        "\n",
        "}\n",
        "print(month[3])"
      ],
      "metadata": {
        "id": "87FXrFisgo5m"
      }
    },
    {
      "cell_type": "code",
      "execution_count": null,
      "metadata": {
        "id": "-8NMBRQJqBRY"
      },
      "outputs": [],
      "source": [
        "#while nếu đúng sẽ chạy mãi, nếu sai sẽ dừng lại\n",
        "i=1\n",
        "while i<= 10:\n",
        "  print(i)\n",
        "  i = i + 1\n",
        "\n",
        "print (\"Bạn đã hoàn thành vòng lập\")"
      ]
    },
    {
      "cell_type": "markdown",
      "source": [
        "# building game\n",
        "từ_bí_mật = \"Con bướm\"\n",
        "đoán = \"\"\n",
        "số_lần_đoán = 0\n",
        "giới_hạn_đoán = 3\n",
        "out_of_guesses = False\n",
        "\n",
        "while đoán != từ_bí_mật and not out_of_guesses:\n",
        "    if số_lần_đoán < giới_hạn_đoán:\n",
        "        đoán = input(\"Nhập từ bí mật: \")\n",
        "        số_lần_đoán += 1\n",
        "    else:\n",
        "        out_of_guesses = True\n",
        "\n",
        "if out_of_guesses:\n",
        "    print(\"Bạn đã thua\")\n",
        "else:\n",
        "    print(\"Bạn Chiến Thắng\")"
      ],
      "metadata": {
        "id": "bCpUIDm99MKM"
      }
    },
    {
      "cell_type": "code",
      "source": [
        "flowers = [\"hoa hồng\",\"hoa cúc\",\"hoa loa kèn\"] #biến in dãy,duyệt chuỗi, vòng lặp có điều kiện, lặp qua một danh sách, for dùng với range\n",
        "for flower in flowers:\n",
        "   print (flower)"
      ],
      "metadata": {
        "colab": {
          "base_uri": "https://localhost:8080/"
        },
        "id": "78hfMpvw_Wfn",
        "outputId": "ae91047b-d185-4ee9-b6b4-0d074b03ae14"
      },
      "execution_count": 17,
      "outputs": [
        {
          "output_type": "stream",
          "name": "stdout",
          "text": [
            "hoa hồng\n",
            "hoa cúc\n",
            "hoa loa kèn\n"
          ]
        }
      ]
    },
    {
      "cell_type": "code",
      "source": [
        "#2D list and nested loops\n",
        "numbers = [\n",
        "    [1,2,3],\n",
        "    [4,5,6],\n",
        "    [7,8,9],\n",
        "    [0]\n",
        "]\n",
        "for row in numbers:\n",
        "  print (row)"
      ],
      "metadata": {
        "colab": {
          "base_uri": "https://localhost:8080/"
        },
        "id": "vQbGZ3rBlv6z",
        "outputId": "b6627c16-1749-4513-bb83-bd2392906442"
      },
      "execution_count": 18,
      "outputs": [
        {
          "output_type": "stream",
          "name": "stdout",
          "text": [
            "[1, 2, 3]\n",
            "[4, 5, 6]\n",
            "[7, 8, 9]\n",
            "[0]\n"
          ]
        }
      ]
    },
    {
      "cell_type": "code",
      "source": [
        "#hàm mũ\n",
        "def raise_to_power(base, exponent):\n",
        "    result = 1\n",
        "    for _ in range(exponent):\n",
        "        result *= base\n",
        "    return result\n"
      ],
      "metadata": {
        "id": "lEPFEgxhEGfU"
      },
      "execution_count": 19,
      "outputs": []
    },
    {
      "cell_type": "code",
      "source": [
        "#try expect as\n",
        "try:\n",
        "  number = int(input(\"nhập một số\"))\n",
        "  print(number)\n",
        "except:\n",
        "  print(\"invalid input\")\n",
        "# có thể viết: expect Z\n"
      ],
      "metadata": {
        "id": "IRiwlUGkQqKx"
      },
      "execution_count": null,
      "outputs": []
    },
    {
      "cell_type": "code",
      "source": [
        "x=10\n",
        "\n",
        "if x<0:\n",
        "  print (\"x is negative\")\n",
        "elif x==0:\n",
        "  print(\"x is zero\")\n",
        "else:\n",
        "  print(\"x is positive\")"
      ],
      "metadata": {
        "id": "iGKUrQIenAMG"
      },
      "execution_count": null,
      "outputs": []
    },
    {
      "cell_type": "code",
      "source": [
        "n=5\n",
        "while n > 0:\n",
        "  n -= 1\n",
        "  print (n)\n",
        "  if n ==2:\n",
        "    break\n",
        "\n"
      ],
      "metadata": {
        "id": "DHORkzebqF3O"
      },
      "execution_count": null,
      "outputs": []
    },
    {
      "cell_type": "code",
      "source": [
        "data = [1,7,9,10,2,6]\n",
        "big_index = 0\n",
        "for j in range (len(data)):\n",
        "  if data [j] > data[big_index]:\n",
        "    big_index =j\n",
        "data[big_index]"
      ],
      "metadata": {
        "id": "vJlwCPLesq8Q"
      },
      "execution_count": null,
      "outputs": []
    },
    {
      "cell_type": "code",
      "source": [
        "#kiểm tra chẵn lẻ\n",
        "number = int(input(\"Enter a number: \"))\n",
        "if number % 2 == 0:\n",
        "    print(f\"{number} is an even number.\")\n",
        "else:\n",
        "    print(f\"{number} is an odd number.\")"
      ],
      "metadata": {
        "id": "CsoKFYqJTJDN"
      },
      "execution_count": null,
      "outputs": []
    },
    {
      "cell_type": "code",
      "source": [
        "# tìm số lớn nhất\n",
        "num1 = float(input(\"Enter the first number: \"))\n",
        "num2 = float(input(\"Enter the second number: \"))\n",
        "num3 = float(input(\"Enter the third number: \"))\n",
        "if num1 >= num2 and num1 >= num3:\n",
        "    largest = num1\n",
        "elif num2 >= num1 and num2 >= num3:\n",
        "    largest = num2\n",
        "else:\n",
        "    largest = num3\n",
        "print(f\"The largest number is: {largest}\")"
      ],
      "metadata": {
        "id": "fj8edY_0TqtR"
      },
      "execution_count": null,
      "outputs": []
    }
  ],
  "metadata": {
    "colab": {
      "provenance": [],
      "toc_visible": true,
      "authorship_tag": "ABX9TyNJuHoWyJ8Vu7hNb5s7GOTi",
      "include_colab_link": true
    },
    "kernelspec": {
      "display_name": "Python 3",
      "name": "python3"
    },
    "language_info": {
      "name": "python"
    }
  },
  "nbformat": 4,
  "nbformat_minor": 0
}